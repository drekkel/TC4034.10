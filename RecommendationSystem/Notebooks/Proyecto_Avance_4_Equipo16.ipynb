{
 "cells": [
  {
   "cell_type": "markdown",
   "id": "04984f66",
   "metadata": {},
   "source": [
    "# Avance de proyecto 1: Sistema de Recomendación "
   ]
  },
  {
   "cell_type": "markdown",
   "id": "8b6a9229",
   "metadata": {},
   "source": [
    "Integrantes Equipo 16.\n",
    "- David Nava Jiménez - A01168501 \n",
    "- Edwin David Hernández Alejandre - A01794692 \n",
    "- Jorge Fernando Bonilla Diaz - A01793935 "
   ]
  },
  {
   "cell_type": "markdown",
   "id": "fad227cd",
   "metadata": {},
   "source": [
    "## 1. Exploracion y Analisis de datos\n",
    "\n",
    "El análisis de datos de películas es una tarea crucial para comprender las tendencias y patrones en la industria cinematográfica. Este estudio se centra en un conjunto de datos que contiene información detallada sobre diversas películas, abarcando desde detalles financieros hasta características de producción y recepciones críticas. La base de datos incluye columnas como presupuesto (budget), ingresos (revenue), duración (runtime), promedio de votos (vote_average), cantidad de votos (vote_count), entre otras.\n",
    "\n",
    "El objetivo de este análisis exploratorio de datos (EDA) es descubrir información valiosa y patrones ocultos en los datos, así como identificar relaciones significativas entre diferentes variables. A través de este EDA, se busca responder preguntas clave, tales como:\n",
    "\n",
    "- ¿Qué géneros de películas son los más comunes?\n",
    "- ¿Existe una correlación entre el presupuesto de una película y sus ingresos?\n",
    "- ¿Cómo varía la duración de las películas en diferentes géneros?\n",
    "- ¿Qué factores influyen en el promedio de votos y en la cantidad de votos recibidos por una película?\n",
    "- Para lograr esto, se realizará una inspección detallada de los datos, incluyendo un análisis de la distribución de las variables numéricas y categóricas, la - identificación de valores faltantes y la evaluación de correlaciones entre variables clave.\n",
    "\n",
    "Este análisis no solo proporcionará una visión general del estado actual de la industria cinematográfica, sino que también servirá como una base sólida para estudios futuros y decisiones informadas en el ámbito del cine."
   ]
  },
  {
   "cell_type": "code",
   "execution_count": 28,
   "id": "54ee69b4",
   "metadata": {},
   "outputs": [
    {
     "name": "stdout",
     "output_type": "stream",
     "text": [
      "c:\\git\\TecMonterrrey\\BigData\\TC4034.10\\RecommendationSystem\\Data\n",
      "c:\\git\\TecMonterrrey\\BigData\\TC4034.10\\RecommendationSystem\\Data\n"
     ]
    }
   ],
   "source": [
    "import os\n",
    "# Obtener la ruta del directorio actual\n",
    "current_directory = os.getcwd()\n",
    "print(current_directory)\n",
    "# Cambiar el directorio de trabajo actual a 'new_directory'\n",
    "#os.chdir('.//TC4034.10//RecommendationSystem//Data')\n",
    "# Verificar el cambio imprimiendo el directorio de trabajo actual\n",
    "print(os.getcwd())"
   ]
  },
  {
   "cell_type": "markdown",
   "id": "2cb6c392",
   "metadata": {},
   "source": [
    "##### Inspección de los datos\n",
    "\n",
    "Muestra las primeras filas del DataFrame y proporciona un resumen estadístico de los datos. También verifica y muestra la cantidad de valores faltantes en cada columna.\n",
    "\n",
    "Convierte las columnas 'budget' y 'revenue' a números, forzando los errores a NaN (Not a Number). Luego, reemplaza los valores 0 en estas columnas por NaN."
   ]
  },
  {
   "cell_type": "code",
   "execution_count": 31,
   "id": "a70426b3",
   "metadata": {},
   "outputs": [],
   "source": [
    "import numpy as np\n",
    "import pandas as pd\n",
    "import matplotlib.pyplot as plt\n",
    "import seaborn as sns\n",
    "from collections import Counter\n",
    "import ast\n",
    "%matplotlib inline\n",
    "from ast import literal_eval\n",
    "# Ignore warnings\n",
    "import warnings\n",
    "# Ignorar todas las advertencias\n",
    "warnings.filterwarnings('ignore')"
   ]
  },
  {
   "cell_type": "code",
   "execution_count": 18,
   "id": "5aebc820",
   "metadata": {},
   "outputs": [
    {
     "name": "stdout",
     "output_type": "stream",
     "text": [
      "   adult                              belongs_to_collection    budget  \\\n",
      "0  False  {'id': 10194, 'name': 'Toy Story Collection', ...  30000000   \n",
      "1  False                                                NaN  65000000   \n",
      "2  False  {'id': 119050, 'name': 'Grumpy Old Men Collect...         0   \n",
      "3  False                                                NaN  16000000   \n",
      "4  False  {'id': 96871, 'name': 'Father of the Bride Col...         0   \n",
      "\n",
      "                                              genres  \\\n",
      "0  [{'id': 16, 'name': 'Animation'}, {'id': 35, '...   \n",
      "1  [{'id': 12, 'name': 'Adventure'}, {'id': 14, '...   \n",
      "2  [{'id': 10749, 'name': 'Romance'}, {'id': 35, ...   \n",
      "3  [{'id': 35, 'name': 'Comedy'}, {'id': 18, 'nam...   \n",
      "4                     [{'id': 35, 'name': 'Comedy'}]   \n",
      "\n",
      "                               homepage     id    imdb_id original_language  \\\n",
      "0  http://toystory.disney.com/toy-story    862  tt0114709                en   \n",
      "1                                   NaN   8844  tt0113497                en   \n",
      "2                                   NaN  15602  tt0113228                en   \n",
      "3                                   NaN  31357  tt0114885                en   \n",
      "4                                   NaN  11862  tt0113041                en   \n",
      "\n",
      "                original_title  \\\n",
      "0                    Toy Story   \n",
      "1                      Jumanji   \n",
      "2             Grumpier Old Men   \n",
      "3            Waiting to Exhale   \n",
      "4  Father of the Bride Part II   \n",
      "\n",
      "                                            overview  ... release_date  \\\n",
      "0  Led by Woody, Andy's toys live happily in his ...  ...   1995-10-30   \n",
      "1  When siblings Judy and Peter discover an encha...  ...   1995-12-15   \n",
      "2  A family wedding reignites the ancient feud be...  ...   1995-12-22   \n",
      "3  Cheated on, mistreated and stepped on, the wom...  ...   1995-12-22   \n",
      "4  Just when George Banks has recovered from his ...  ...   1995-02-10   \n",
      "\n",
      "       revenue runtime                                   spoken_languages  \\\n",
      "0  373554033.0    81.0           [{'iso_639_1': 'en', 'name': 'English'}]   \n",
      "1  262797249.0   104.0  [{'iso_639_1': 'en', 'name': 'English'}, {'iso...   \n",
      "2          0.0   101.0           [{'iso_639_1': 'en', 'name': 'English'}]   \n",
      "3   81452156.0   127.0           [{'iso_639_1': 'en', 'name': 'English'}]   \n",
      "4   76578911.0   106.0           [{'iso_639_1': 'en', 'name': 'English'}]   \n",
      "\n",
      "     status                                            tagline  \\\n",
      "0  Released                                                NaN   \n",
      "1  Released          Roll the dice and unleash the excitement!   \n",
      "2  Released  Still Yelling. Still Fighting. Still Ready for...   \n",
      "3  Released  Friends are the people who let you be yourself...   \n",
      "4  Released  Just When His World Is Back To Normal... He's ...   \n",
      "\n",
      "                         title  video vote_average vote_count  \n",
      "0                    Toy Story  False          7.7     5415.0  \n",
      "1                      Jumanji  False          6.9     2413.0  \n",
      "2             Grumpier Old Men  False          6.5       92.0  \n",
      "3            Waiting to Exhale  False          6.1       34.0  \n",
      "4  Father of the Bride Part II  False          5.7      173.0  \n",
      "\n",
      "[5 rows x 24 columns]\n",
      "        adult                              belongs_to_collection budget  \\\n",
      "count   45466                                               4494  45466   \n",
      "unique      5                                               1698   1226   \n",
      "top     False  {'id': 415931, 'name': 'The Bowery Boys', 'pos...      0   \n",
      "freq    45454                                                 29  36573   \n",
      "mean      NaN                                                NaN    NaN   \n",
      "std       NaN                                                NaN    NaN   \n",
      "min       NaN                                                NaN    NaN   \n",
      "25%       NaN                                                NaN    NaN   \n",
      "50%       NaN                                                NaN    NaN   \n",
      "75%       NaN                                                NaN    NaN   \n",
      "max       NaN                                                NaN    NaN   \n",
      "\n",
      "                               genres                     homepage      id  \\\n",
      "count                           45466                         7782   45466   \n",
      "unique                           4069                         7673   45436   \n",
      "top     [{'id': 18, 'name': 'Drama'}]  http://www.georgecarlin.com  141971   \n",
      "freq                             5000                           12       3   \n",
      "mean                              NaN                          NaN     NaN   \n",
      "std                               NaN                          NaN     NaN   \n",
      "min                               NaN                          NaN     NaN   \n",
      "25%                               NaN                          NaN     NaN   \n",
      "50%                               NaN                          NaN     NaN   \n",
      "75%                               NaN                          NaN     NaN   \n",
      "max                               NaN                          NaN     NaN   \n",
      "\n",
      "          imdb_id original_language original_title            overview  ...  \\\n",
      "count       45449             45455          45466               44512  ...   \n",
      "unique      45417                92          43373               44307  ...   \n",
      "top     tt1180333                en         Hamlet  No overview found.  ...   \n",
      "freq            3             32269              8                 133  ...   \n",
      "mean          NaN               NaN            NaN                 NaN  ...   \n",
      "std           NaN               NaN            NaN                 NaN  ...   \n",
      "min           NaN               NaN            NaN                 NaN  ...   \n",
      "25%           NaN               NaN            NaN                 NaN  ...   \n",
      "50%           NaN               NaN            NaN                 NaN  ...   \n",
      "75%           NaN               NaN            NaN                 NaN  ...   \n",
      "max           NaN               NaN            NaN                 NaN  ...   \n",
      "\n",
      "       release_date       revenue       runtime  \\\n",
      "count         45379  4.546000e+04  45203.000000   \n",
      "unique        17336           NaN           NaN   \n",
      "top      2008-01-01           NaN           NaN   \n",
      "freq            136           NaN           NaN   \n",
      "mean            NaN  1.120935e+07     94.128199   \n",
      "std             NaN  6.433225e+07     38.407810   \n",
      "min             NaN  0.000000e+00      0.000000   \n",
      "25%             NaN  0.000000e+00     85.000000   \n",
      "50%             NaN  0.000000e+00     95.000000   \n",
      "75%             NaN  0.000000e+00    107.000000   \n",
      "max             NaN  2.787965e+09   1256.000000   \n",
      "\n",
      "                                spoken_languages    status  \\\n",
      "count                                      45460     45379   \n",
      "unique                                      1931         6   \n",
      "top     [{'iso_639_1': 'en', 'name': 'English'}]  Released   \n",
      "freq                                       22395     45014   \n",
      "mean                                         NaN       NaN   \n",
      "std                                          NaN       NaN   \n",
      "min                                          NaN       NaN   \n",
      "25%                                          NaN       NaN   \n",
      "50%                                          NaN       NaN   \n",
      "75%                                          NaN       NaN   \n",
      "max                                          NaN       NaN   \n",
      "\n",
      "                       tagline       title  video  vote_average    vote_count  \n",
      "count                    20412       45460  45460  45460.000000  45460.000000  \n",
      "unique                   20283       42277      2           NaN           NaN  \n",
      "top     Based on a true story.  Cinderella  False           NaN           NaN  \n",
      "freq                         7          11  45367           NaN           NaN  \n",
      "mean                       NaN         NaN    NaN      5.618207    109.897338  \n",
      "std                        NaN         NaN    NaN      1.924216    491.310374  \n",
      "min                        NaN         NaN    NaN      0.000000      0.000000  \n",
      "25%                        NaN         NaN    NaN      5.000000      3.000000  \n",
      "50%                        NaN         NaN    NaN      6.000000     10.000000  \n",
      "75%                        NaN         NaN    NaN      6.800000     34.000000  \n",
      "max                        NaN         NaN    NaN     10.000000  14075.000000  \n",
      "\n",
      "[11 rows x 24 columns]\n",
      "adult                        0\n",
      "belongs_to_collection    40972\n",
      "budget                       0\n",
      "genres                       0\n",
      "homepage                 37684\n",
      "id                           0\n",
      "imdb_id                     17\n",
      "original_language           11\n",
      "original_title               0\n",
      "overview                   954\n",
      "popularity                   5\n",
      "poster_path                386\n",
      "production_companies         3\n",
      "production_countries         3\n",
      "release_date                87\n",
      "revenue                      6\n",
      "runtime                    263\n",
      "spoken_languages             6\n",
      "status                      87\n",
      "tagline                  25054\n",
      "title                        6\n",
      "video                        6\n",
      "vote_average                 6\n",
      "vote_count                   6\n",
      "dtype: int64\n"
     ]
    }
   ],
   "source": [
    "# Cargar el archivo CSV\n",
    "file_path = 'movies_metadata.csv' \n",
    "movies_df = pd.read_csv(file_path)\n",
    "\n",
    "# Mostrar las primeras filas del dataframe para inspeccionar los datos\n",
    "print(movies_df.head())\n",
    "\n",
    "# Resumen estadístico de los datos\n",
    "summary = movies_df.describe(include='all')\n",
    "\n",
    "# Verificación de valores faltantes\n",
    "missing_values = movies_df.isnull().sum()\n",
    "\n",
    "print(summary)\n",
    "print(missing_values)\n",
    "\n",
    "# Convertir las columnas 'budget' y 'revenue' a números, forzando errores a NaN\n",
    "movies_df['budget'] = pd.to_numeric(movies_df['budget'], errors='coerce')\n",
    "movies_df['revenue'] = pd.to_numeric(movies_df['revenue'], errors='coerce')\n",
    "\n",
    "# Reemplazar los valores 0 por NaN\n",
    "movies_df['budget'] = movies_df['budget'].replace(0, np.nan)\n",
    "movies_df['revenue'] = movies_df['revenue'].replace(0, np.nan)"
   ]
  },
  {
   "cell_type": "code",
   "execution_count": 27,
   "id": "27dbf570",
   "metadata": {},
   "outputs": [
    {
     "name": "stdout",
     "output_type": "stream",
     "text": [
      "<class 'pandas.core.frame.DataFrame'>\n",
      "RangeIndex: 45466 entries, 0 to 45465\n",
      "Data columns (total 24 columns):\n",
      " #   Column                 Non-Null Count  Dtype  \n",
      "---  ------                 --------------  -----  \n",
      " 0   adult                  45466 non-null  object \n",
      " 1   belongs_to_collection  4494 non-null   object \n",
      " 2   budget                 8890 non-null   float64\n",
      " 3   genres                 45466 non-null  object \n",
      " 4   homepage               7782 non-null   object \n",
      " 5   id                     45466 non-null  object \n",
      " 6   imdb_id                45449 non-null  object \n",
      " 7   original_language      45455 non-null  object \n",
      " 8   original_title         45466 non-null  object \n",
      " 9   overview               44512 non-null  object \n",
      " 10  popularity             45461 non-null  object \n",
      " 11  poster_path            45080 non-null  object \n",
      " 12  production_companies   45463 non-null  object \n",
      " 13  production_countries   45463 non-null  object \n",
      " 14  release_date           45379 non-null  object \n",
      " 15  revenue                7408 non-null   float64\n",
      " 16  runtime                45203 non-null  float64\n",
      " 17  spoken_languages       45460 non-null  object \n",
      " 18  status                 45379 non-null  object \n",
      " 19  tagline                20412 non-null  object \n",
      " 20  title                  45460 non-null  object \n",
      " 21  video                  45460 non-null  object \n",
      " 22  vote_average           45460 non-null  float64\n",
      " 23  vote_count             45460 non-null  float64\n",
      "dtypes: float64(5), object(19)\n",
      "memory usage: 8.3+ MB\n"
     ]
    }
   ],
   "source": [
    "movies_df.info()"
   ]
  },
  {
   "cell_type": "markdown",
   "id": "543a0fca",
   "metadata": {},
   "source": [
    "#### Resumen Estadístico\n",
    "- adult: Columna con valores booleanos que indica si la película es para adultos.\n",
    "- belongs_to_collection: Información sobre si la película pertenece a una colección; muchos valores faltantes (40972).\n",
    "- budget: Presupuesto de la película; presenta una alta frecuencia de valores cero.\n",
    "- genres: Lista de géneros; 4069 valores únicos.\n",
    "- homepage: URL de la página oficial de la película; muchos valores faltantes (37684).\n",
    "- id: Identificador único de la película.\n",
    "- imdb_id: Identificador en IMDb; 17 valores faltantes.\n",
    "- original_language: Idioma original de la película; 11 valores faltantes.\n",
    "- original_title: Título original de la película.\n",
    "- overview: Resumen de la película; 954 valores faltantes.\n",
    "- popularity: Popularidad de la película.\n",
    "- poster_path: Ruta del póster de la película; 386 valores faltantes.\n",
    "- production_companies: Empresas de producción; 3 valores faltantes.\n",
    "- production_countries: Países de producción; 3 valores faltantes.\n",
    "- release_date: Fecha de lanzamiento; 87 valores faltantes.\n",
    "- revenue: Ingresos de la película; 6 valores faltantes.\n",
    "- runtime: Duración de la película; 263 valores faltantes.\n",
    "- spoken_languages: Idiomas hablados en la película; 6 valores faltantes.\n",
    "- status: Estado de la película (lanzada, en producción, etc.); 87 valores faltantes.\n",
    "- tagline: Frase publicitaria de la película; muchos valores faltantes (25054).\n",
    "- title: Título de la película; 6 valores faltantes.\n",
    "- video: Indica si hay un video asociado; 6 valores faltantes.\n",
    "- vote_average: Promedio de votos.\n",
    "- vote_count: Número de votos."
   ]
  },
  {
   "cell_type": "markdown",
   "id": "60c6aad2",
   "metadata": {},
   "source": [
    "### Visualización de los datos\n",
    "Genera gráficos de distribución para varias columnas ('budget', 'revenue', 'runtime', 'vote_average', 'vote_count')."
   ]
  },
  {
   "cell_type": "code",
   "execution_count": 25,
   "id": "f4050b0f",
   "metadata": {},
   "outputs": [
    {
     "data": {
      "image/png": "[encoded data removed]",
      "text/plain": [
       "<Figure size 1800x1200 with 5 Axes>"
      ]
     },
     "metadata": {},
     "output_type": "display_data"
    }
   ],
   "source": [
    "# Volver a generar los gráficos de distribución\n",
    "fig, axes = plt.subplots(2, 3, figsize=(18, 12))\n",
    "\n",
    "# Distribución de 'budget'\n",
    "sns.histplot(movies_df['budget'].dropna(), bins=50, ax=axes[0, 0])\n",
    "axes[0, 0].set_title('Distribución de Presupuesto')\n",
    "axes[0, 0].set_yscale('log')\n",
    "\n",
    "# Distribución de 'revenue'\n",
    "sns.histplot(movies_df['revenue'].dropna(), bins=50, ax=axes[0, 1])\n",
    "axes[0, 1].set_title('Distribución de Ingresos')\n",
    "axes[0, 1].set_yscale('log')\n",
    "\n",
    "# Distribución de 'runtime'\n",
    "sns.histplot(movies_df['runtime'].dropna(), bins=50, ax=axes[0, 2])\n",
    "axes[0, 2].set_title('Distribución de Duración')\n",
    "\n",
    "# Distribución de 'vote_average'\n",
    "sns.histplot(movies_df['vote_average'].dropna(), bins=50, ax=axes[1, 0])\n",
    "axes[1, 0].set_title('Distribución de Voto Promedio')\n",
    "\n",
    "# Distribución de 'vote_count'\n",
    "sns.histplot(movies_df['vote_count'].dropna(), bins=50, ax=axes[1, 1])\n",
    "axes[1, 1].set_title('Distribución de Cantidad de Votos')\n",
    "axes[1, 1].set_yscale('log')\n",
    "\n",
    "# Remover el último subplot vacío\n",
    "fig.delaxes(axes[1, 2])\n",
    "\n",
    "plt.tight_layout()\n",
    "plt.show()"
   ]
  },
  {
   "cell_type": "markdown",
   "id": "761baa0d",
   "metadata": {},
   "source": [
    "##### Distribución de Presupuesto (budget):\n",
    "\n",
    "- > La mayoría de las películas tienen un presupuesto bajo.\n",
    "- > Hay una caída exponencial en la cantidad de películas a medida que el presupuesto aumenta.\n",
    "- > Pocos casos de películas con presupuestos extremadamente altos.\n",
    "\n",
    "##### Distribución de Ingresos (revenue):\n",
    "\n",
    "- > Similar al presupuesto, la mayoría de las películas generan ingresos bajos.\n",
    "- > También hay una caída exponencial en la cantidad de películas a medida que los ingresos aumentan.\n",
    "- > Algunos casos de películas con ingresos extremadamente altos.\n",
    "\n",
    "##### Distribución de Duración (runtime):\n",
    "\n",
    "- > La mayoría de las películas tienen una duración alrededor de 100 a 150 minutos.\n",
    "- > Hay muy pocas películas con duraciones extremadamente largas (más de 200 minutos).\n",
    "- > La gráfica muestra una distribución sesgada a la derecha.\n",
    "\n",
    "##### Distribución de Voto Promedio (vote_average):\n",
    "\n",
    "- > La mayoría de las películas tienen un voto promedio entre 5 y 7.\n",
    "- > La distribución es más simétrica y tiene un pico alrededor de 6.\n",
    "- > Hay algunas películas con votos promedio extremos, tanto bajos como altos.\n",
    "\n",
    "##### Distribución de Cantidad de Votos (vote_count):\n",
    "\n",
    "- > La mayoría de las películas tienen un número bajo de votos.\n",
    "- > Hay una caída exponencial en la cantidad de películas a medida que el número de votos aumenta.\n",
    "- > Pocas películas tienen una cantidad extremadamente alta de votos.\n",
    "\n",
    "> En resumen, la mayoría de las variables muestran distribuciones sesgadas a la derecha, con muchas películas en las categorías de bajo presupuesto, ingresos y cantidad de votos, y menos películas en las categorías de alto presupuesto, ingresos y cantidad de votos. La duración y el voto promedio muestran distribuciones más simétricas."
   ]
  },
  {
   "cell_type": "markdown",
   "id": "670d209e",
   "metadata": {},
   "source": [
    "### Análisis de correlación\n",
    "Calcula y muestra una matriz de correlación para varias columnas numéricas."
   ]
  },
  {
   "cell_type": "markdown",
   "id": "3c8146c9",
   "metadata": {},
   "source": [
    "- Análisis de correlación: Calcula la matriz de correlación entre las columnas 'budget', 'revenue', 'runtime', 'vote_average' y 'vote_count' del DataFrame movies_df. La correlación mide la relación lineal entre dos variables. Los valores de correlación varían entre -1 y 1, donde -1 indica una relación lineal negativa perfecta, 1 indica una relación lineal positiva perfecta, y 0 indica que no hay relación lineal. \n",
    "\n",
    "- Análisis de géneros: Primero, extrae y cuenta los géneros de las películas. Para cada película, la columna 'genres' contiene una lista de géneros, que se extraen y se aplanan en una sola lista de géneros. Luego, se cuenta la ocurrencia de cada género utilizando la clase Counter de la biblioteca collections. Después, se convierte este contador en un DataFrame de pandas y se ordena por la columna 'Count' en orden descendente. "
   ]
  },
  {
   "cell_type": "code",
   "execution_count": 22,
   "id": "0c6b5ce4",
   "metadata": {},
   "outputs": [
    {
     "name": "stdout",
     "output_type": "stream",
     "text": [
      "                budget   revenue   runtime  vote_average  vote_count\n",
      "budget        1.000000  0.730271  0.223296      0.094979    0.619909\n",
      "revenue       0.730271  1.000000  0.202615      0.149402    0.781789\n",
      "runtime       0.223296  0.202615  1.000000      0.158146    0.113539\n",
      "vote_average  0.094979  0.149402  0.158146      1.000000    0.123607\n",
      "vote_count    0.619909  0.781789  0.113539      0.123607    1.000000\n"
     ]
    }
   ],
   "source": [
    "\n",
    "# Análisis de correlación entre variables numéricas\n",
    "correlation_matrix = movies_df[['budget', 'revenue', 'runtime', 'vote_average', 'vote_count']].corr()\n",
    "\n",
    "# Mostrar la matriz de correlación\n",
    "print(correlation_matrix)\n"
   ]
  },
  {
   "cell_type": "code",
   "execution_count": 23,
   "id": "36f71299",
   "metadata": {},
   "outputs": [
    {
     "data": {
      "image/png": "[encoded data removed]",
      "text/plain": [
       "<Figure size 1200x800 with 2 Axes>"
      ]
     },
     "metadata": {},
     "output_type": "display_data"
    }
   ],
   "source": [
    "# Usando seaborns para visualizar la matriz de correlación\n",
    "plt.figure(figsize=(12, 8))\n",
    "sns.heatmap(correlation_matrix, annot=True, cmap='coolwarm', fmt=\".2f\")\n",
    "plt.title('Matriz de Correlación')\n",
    "plt.show()\n"
   ]
  },
  {
   "cell_type": "markdown",
   "id": "a4a1dd9d",
   "metadata": {},
   "source": [
    "En resumen, las correlaciones más fuertes se observan entre presupuesto e ingresos, y entre ingresos y cantidad de votos, lo que indica que las películas con mayores presupuestos tienden a generar más ingresos y recibir más votos. La duración de las películas y el voto promedio tienen correlaciones más débiles con las demás variables."
   ]
  },
  {
   "cell_type": "markdown",
   "id": "a36a6f68",
   "metadata": {},
   "source": [
    "### Análisis de géneros\n",
    "Extrae y cuenta los géneros de las películas. Luego, convierte el contador de géneros en un DataFrame y muestra los géneros más comunes."
   ]
  },
  {
   "cell_type": "code",
   "execution_count": 24,
   "id": "7d14a5d8",
   "metadata": {},
   "outputs": [
    {
     "name": "stdout",
     "output_type": "stream",
     "text": [
      "              Genre  Count\n",
      "6             Drama  20265\n",
      "1            Comedy  13182\n",
      "9          Thriller   7624\n",
      "5           Romance   6735\n",
      "7            Action   6596\n",
      "10           Horror   4673\n",
      "8             Crime   4307\n",
      "17      Documentary   3932\n",
      "3         Adventure   3496\n",
      "12  Science Fiction   3049\n"
     ]
    }
   ],
   "source": [
    "# Exploración de la variable 'genres'\n",
    "# Extraer y contar los géneros\n",
    "genres_list = movies_df['genres'].dropna().apply(lambda x: [genre['name'] for genre in ast.literal_eval(x)])\n",
    "genres_flat = [genre for sublist in genres_list for genre in sublist]\n",
    "genres_count = Counter(genres_flat)\n",
    "\n",
    "# Convertir el contador a un DataFrame\n",
    "genres_df = pd.DataFrame(genres_count.items(), columns=['Genre', 'Count']).sort_values(by='Count', ascending=False)\n",
    "\n",
    "# Mostrar los géneros más comunes\n",
    "print(genres_df.head(10))"
   ]
  },
  {
   "cell_type": "markdown",
   "id": "7cd32ac9-887a-4264-940a-cfe854cf7d14",
   "metadata": {},
   "source": [
    "Insercion de datos"
   ]
  },
  {
   "cell_type": "code",
   "execution_count": 32,
   "id": "e9cf52a3-bdec-4ee2-9cc8-87ce9fea3fdc",
   "metadata": {},
   "outputs": [],
   "source": [
    "df = pd. read_csv('movies_metadata.csv')"
   ]
  },
  {
   "cell_type": "code",
   "execution_count": 33,
   "id": "9aec6912-9fa7-48a6-8042-8e44ff59b16a",
   "metadata": {
    "scrolled": true
   },
   "outputs": [
    {
     "data": {
      "text/html": [
       "<div>\n",
       "<style scoped>\n",
       "    .dataframe tbody tr th:only-of-type {\n",
       "        vertical-align: middle;\n",
       "    }\n",
       "\n",
       "    .dataframe tbody tr th {\n",
       "        vertical-align: top;\n",
       "    }\n",
       "\n",
       "    .dataframe thead th {\n",
       "        text-align: right;\n",
       "    }\n",
       "</style>\n",
       "<table border=\"1\" class=\"dataframe\">\n",
       "  <thead>\n",
       "    <tr style=\"text-align: right;\">\n",
       "      <th></th>\n",
       "      <th>adult</th>\n",
       "      <th>belongs_to_collection</th>\n",
       "      <th>budget</th>\n",
       "      <th>genres</th>\n",
       "      <th>homepage</th>\n",
       "      <th>id</th>\n",
       "      <th>imdb_id</th>\n",
       "      <th>original_language</th>\n",
       "      <th>original_title</th>\n",
       "      <th>overview</th>\n",
       "      <th>...</th>\n",
       "      <th>release_date</th>\n",
       "      <th>revenue</th>\n",
       "      <th>runtime</th>\n",
       "      <th>spoken_languages</th>\n",
       "      <th>status</th>\n",
       "      <th>tagline</th>\n",
       "      <th>title</th>\n",
       "      <th>video</th>\n",
       "      <th>vote_average</th>\n",
       "      <th>vote_count</th>\n",
       "    </tr>\n",
       "  </thead>\n",
       "  <tbody>\n",
       "    <tr>\n",
       "      <th>0</th>\n",
       "      <td>False</td>\n",
       "      <td>{'id': 10194, 'name': 'Toy Story Collection', ...</td>\n",
       "      <td>30000000</td>\n",
       "      <td>[{'id': 16, 'name': 'Animation'}, {'id': 35, '...</td>\n",
       "      <td>http://toystory.disney.com/toy-story</td>\n",
       "      <td>862</td>\n",
       "      <td>tt0114709</td>\n",
       "      <td>en</td>\n",
       "      <td>Toy Story</td>\n",
       "      <td>Led by Woody, Andy's toys live happily in his ...</td>\n",
       "      <td>...</td>\n",
       "      <td>1995-10-30</td>\n",
       "      <td>373554033.0</td>\n",
       "      <td>81.0</td>\n",
       "      <td>[{'iso_639_1': 'en', 'name': 'English'}]</td>\n",
       "      <td>Released</td>\n",
       "      <td>NaN</td>\n",
       "      <td>Toy Story</td>\n",
       "      <td>False</td>\n",
       "      <td>7.7</td>\n",
       "      <td>5415.0</td>\n",
       "    </tr>\n",
       "    <tr>\n",
       "      <th>1</th>\n",
       "      <td>False</td>\n",
       "      <td>NaN</td>\n",
       "      <td>65000000</td>\n",
       "      <td>[{'id': 12, 'name': 'Adventure'}, {'id': 14, '...</td>\n",
       "      <td>NaN</td>\n",
       "      <td>8844</td>\n",
       "      <td>tt0113497</td>\n",
       "      <td>en</td>\n",
       "      <td>Jumanji</td>\n",
       "      <td>When siblings Judy and Peter discover an encha...</td>\n",
       "      <td>...</td>\n",
       "      <td>1995-12-15</td>\n",
       "      <td>262797249.0</td>\n",
       "      <td>104.0</td>\n",
       "      <td>[{'iso_639_1': 'en', 'name': 'English'}, {'iso...</td>\n",
       "      <td>Released</td>\n",
       "      <td>Roll the dice and unleash the excitement!</td>\n",
       "      <td>Jumanji</td>\n",
       "      <td>False</td>\n",
       "      <td>6.9</td>\n",
       "      <td>2413.0</td>\n",
       "    </tr>\n",
       "    <tr>\n",
       "      <th>2</th>\n",
       "      <td>False</td>\n",
       "      <td>{'id': 119050, 'name': 'Grumpy Old Men Collect...</td>\n",
       "      <td>0</td>\n",
       "      <td>[{'id': 10749, 'name': 'Romance'}, {'id': 35, ...</td>\n",
       "      <td>NaN</td>\n",
       "      <td>15602</td>\n",
       "      <td>tt0113228</td>\n",
       "      <td>en</td>\n",
       "      <td>Grumpier Old Men</td>\n",
       "      <td>A family wedding reignites the ancient feud be...</td>\n",
       "      <td>...</td>\n",
       "      <td>1995-12-22</td>\n",
       "      <td>0.0</td>\n",
       "      <td>101.0</td>\n",
       "      <td>[{'iso_639_1': 'en', 'name': 'English'}]</td>\n",
       "      <td>Released</td>\n",
       "      <td>Still Yelling. Still Fighting. Still Ready for...</td>\n",
       "      <td>Grumpier Old Men</td>\n",
       "      <td>False</td>\n",
       "      <td>6.5</td>\n",
       "      <td>92.0</td>\n",
       "    </tr>\n",
       "    <tr>\n",
       "      <th>3</th>\n",
       "      <td>False</td>\n",
       "      <td>NaN</td>\n",
       "      <td>16000000</td>\n",
       "      <td>[{'id': 35, 'name': 'Comedy'}, {'id': 18, 'nam...</td>\n",
       "      <td>NaN</td>\n",
       "      <td>31357</td>\n",
       "      <td>tt0114885</td>\n",
       "      <td>en</td>\n",
       "      <td>Waiting to Exhale</td>\n",
       "      <td>Cheated on, mistreated and stepped on, the wom...</td>\n",
       "      <td>...</td>\n",
       "      <td>1995-12-22</td>\n",
       "      <td>81452156.0</td>\n",
       "      <td>127.0</td>\n",
       "      <td>[{'iso_639_1': 'en', 'name': 'English'}]</td>\n",
       "      <td>Released</td>\n",
       "      <td>Friends are the people who let you be yourself...</td>\n",
       "      <td>Waiting to Exhale</td>\n",
       "      <td>False</td>\n",
       "      <td>6.1</td>\n",
       "      <td>34.0</td>\n",
       "    </tr>\n",
       "    <tr>\n",
       "      <th>4</th>\n",
       "      <td>False</td>\n",
       "      <td>{'id': 96871, 'name': 'Father of the Bride Col...</td>\n",
       "      <td>0</td>\n",
       "      <td>[{'id': 35, 'name': 'Comedy'}]</td>\n",
       "      <td>NaN</td>\n",
       "      <td>11862</td>\n",
       "      <td>tt0113041</td>\n",
       "      <td>en</td>\n",
       "      <td>Father of the Bride Part II</td>\n",
       "      <td>Just when George Banks has recovered from his ...</td>\n",
       "      <td>...</td>\n",
       "      <td>1995-02-10</td>\n",
       "      <td>76578911.0</td>\n",
       "      <td>106.0</td>\n",
       "      <td>[{'iso_639_1': 'en', 'name': 'English'}]</td>\n",
       "      <td>Released</td>\n",
       "      <td>Just When His World Is Back To Normal... He's ...</td>\n",
       "      <td>Father of the Bride Part II</td>\n",
       "      <td>False</td>\n",
       "      <td>5.7</td>\n",
       "      <td>173.0</td>\n",
       "    </tr>\n",
       "  </tbody>\n",
       "</table>\n",
       "<p>5 rows × 24 columns</p>\n",
       "</div>"
      ],
      "text/plain": [
       "   adult                              belongs_to_collection    budget  \\\n",
       "0  False  {'id': 10194, 'name': 'Toy Story Collection', ...  30000000   \n",
       "1  False                                                NaN  65000000   \n",
       "2  False  {'id': 119050, 'name': 'Grumpy Old Men Collect...         0   \n",
       "3  False                                                NaN  16000000   \n",
       "4  False  {'id': 96871, 'name': 'Father of the Bride Col...         0   \n",
       "\n",
       "                                              genres  \\\n",
       "0  [{'id': 16, 'name': 'Animation'}, {'id': 35, '...   \n",
       "1  [{'id': 12, 'name': 'Adventure'}, {'id': 14, '...   \n",
       "2  [{'id': 10749, 'name': 'Romance'}, {'id': 35, ...   \n",
       "3  [{'id': 35, 'name': 'Comedy'}, {'id': 18, 'nam...   \n",
       "4                     [{'id': 35, 'name': 'Comedy'}]   \n",
       "\n",
       "                               homepage     id    imdb_id original_language  \\\n",
       "0  http://toystory.disney.com/toy-story    862  tt0114709                en   \n",
       "1                                   NaN   8844  tt0113497                en   \n",
       "2                                   NaN  15602  tt0113228                en   \n",
       "3                                   NaN  31357  tt0114885                en   \n",
       "4                                   NaN  11862  tt0113041                en   \n",
       "\n",
       "                original_title  \\\n",
       "0                    Toy Story   \n",
       "1                      Jumanji   \n",
       "2             Grumpier Old Men   \n",
       "3            Waiting to Exhale   \n",
       "4  Father of the Bride Part II   \n",
       "\n",
       "                                            overview  ... release_date  \\\n",
       "0  Led by Woody, Andy's toys live happily in his ...  ...   1995-10-30   \n",
       "1  When siblings Judy and Peter discover an encha...  ...   1995-12-15   \n",
       "2  A family wedding reignites the ancient feud be...  ...   1995-12-22   \n",
       "3  Cheated on, mistreated and stepped on, the wom...  ...   1995-12-22   \n",
       "4  Just when George Banks has recovered from his ...  ...   1995-02-10   \n",
       "\n",
       "       revenue runtime                                   spoken_languages  \\\n",
       "0  373554033.0    81.0           [{'iso_639_1': 'en', 'name': 'English'}]   \n",
       "1  262797249.0   104.0  [{'iso_639_1': 'en', 'name': 'English'}, {'iso...   \n",
       "2          0.0   101.0           [{'iso_639_1': 'en', 'name': 'English'}]   \n",
       "3   81452156.0   127.0           [{'iso_639_1': 'en', 'name': 'English'}]   \n",
       "4   76578911.0   106.0           [{'iso_639_1': 'en', 'name': 'English'}]   \n",
       "\n",
       "     status                                            tagline  \\\n",
       "0  Released                                                NaN   \n",
       "1  Released          Roll the dice and unleash the excitement!   \n",
       "2  Released  Still Yelling. Still Fighting. Still Ready for...   \n",
       "3  Released  Friends are the people who let you be yourself...   \n",
       "4  Released  Just When His World Is Back To Normal... He's ...   \n",
       "\n",
       "                         title  video vote_average vote_count  \n",
       "0                    Toy Story  False          7.7     5415.0  \n",
       "1                      Jumanji  False          6.9     2413.0  \n",
       "2             Grumpier Old Men  False          6.5       92.0  \n",
       "3            Waiting to Exhale  False          6.1       34.0  \n",
       "4  Father of the Bride Part II  False          5.7      173.0  \n",
       "\n",
       "[5 rows x 24 columns]"
      ]
     },
     "execution_count": 33,
     "metadata": {},
     "output_type": "execute_result"
    }
   ],
   "source": [
    "df.head()"
   ]
  },
  {
   "cell_type": "code",
   "execution_count": 34,
   "id": "13f72378-5b50-420c-9d4d-f7c905a21cb4",
   "metadata": {},
   "outputs": [
    {
     "data": {
      "text/plain": [
       "count    45460.000000\n",
       "mean       109.897338\n",
       "std        491.310374\n",
       "min          0.000000\n",
       "25%          3.000000\n",
       "50%         10.000000\n",
       "75%         34.000000\n",
       "max      14075.000000\n",
       "Name: vote_count, dtype: float64"
      ]
     },
     "execution_count": 34,
     "metadata": {},
     "output_type": "execute_result"
    }
   ],
   "source": [
    "df['vote_count'].describe()"
   ]
  },
  {
   "cell_type": "code",
   "execution_count": 35,
   "id": "eb962ee2-f7dd-41c3-b409-dd49d01c5d0b",
   "metadata": {},
   "outputs": [
    {
     "data": {
      "text/plain": [
       "<matplotlib.legend.Legend at 0x1a6c638c1c0>"
      ]
     },
     "execution_count": 35,
     "metadata": {},
     "output_type": "execute_result"
    },
    {
     "data": {
      "image/png": "[encoded data removed]",
      "text/plain": [
       "<Figure size 640x480 with 1 Axes>"
      ]
     },
     "metadata": {},
     "output_type": "display_data"
    }
   ],
   "source": [
    "plt.title('Histograma de votaciones ')\n",
    "plt.hist(df['vote_count'])                         \n",
    "plt.legend()"
   ]
  },
  {
   "cell_type": "markdown",
   "id": "5effe296-bad3-4971-9420-5a4f2493d279",
   "metadata": {},
   "source": [
    "## Recomendador Simple"
   ]
  },
  {
   "cell_type": "markdown",
   "id": "de8796b6",
   "metadata": {},
   "source": [
    "Se realiza una serie de operaciones sobre la columna 'genres'. Se Rellenan valores nulos, posteriormente evaluamos la cadena de texto que representa una lista. Finalmente, se extraen los nombres de generos"
   ]
  },
  {
   "cell_type": "code",
   "execution_count": 5,
   "id": "b8bd2b09-6eaf-4223-8f16-f9f506428347",
   "metadata": {},
   "outputs": [],
   "source": [
    "df['genres'] = df['genres'].fillna('[]').apply(literal_eval).apply(lambda x: [i['name'] for i in x] if isinstance(x, list) else [])"
   ]
  },
  {
   "cell_type": "markdown",
   "id": "ec3697cf",
   "metadata": {},
   "source": [
    "Calculamos la media de las votaciones promedio para las peliculas que tienen un valor no nullo en 'vote_average'. "
   ]
  },
  {
   "cell_type": "code",
   "execution_count": 6,
   "id": "fe7f395a-c3bc-4f33-9479-622f67d19e45",
   "metadata": {},
   "outputs": [
    {
     "data": {
      "text/plain": [
       "5.244896612406511"
      ]
     },
     "execution_count": 6,
     "metadata": {},
     "output_type": "execute_result"
    }
   ],
   "source": [
    "vote_counts = df[df['vote_count'].notnull()]['vote_count'].astype('int')\n",
    "vote_averages = df[df['vote_average'].notnull()]['vote_average'].astype('int')\n",
    "C = vote_averages.mean()\n",
    "C"
   ]
  },
  {
   "cell_type": "markdown",
   "id": "0ce05099",
   "metadata": {},
   "source": [
    "Se calcula el percentil 95 de la serie vote_counts, es decir, el 95% de los datos que estan por debajo del quartile 0.95. Tienen un numero de votos de 434."
   ]
  },
  {
   "cell_type": "code",
   "execution_count": 7,
   "id": "d7f2c278-7916-4e7b-b5e2-bc0e0120ce19",
   "metadata": {},
   "outputs": [
    {
     "data": {
      "text/plain": [
       "434.0"
      ]
     },
     "execution_count": 7,
     "metadata": {},
     "output_type": "execute_result"
    }
   ],
   "source": [
    "m = vote_counts.quantile(0.95)\n",
    "m"
   ]
  },
  {
   "cell_type": "markdown",
   "id": "3f32bfd4",
   "metadata": {},
   "source": [
    "Aplicamos una función a cada valor en la columna 'release_date' convertida. Esta función convierte el valor a una cadena, lo divide en el carácter '-', y toma el primer elemento de la lista resultante, que debería ser el año. Si el valor original es NaT (que se compara con `np.nan`), entonces devuelve `np.nan`.\n",
    "\n",
    "El resultado de estas operaciones es que la columna 'year' contiene el año de la fecha de lanzamiento para cada película en el DataFrame `df`, o `np.nan` si la fecha de lanzamiento no estaba disponible o no pudo ser interpretada como una fecha."
   ]
  },
  {
   "cell_type": "code",
   "execution_count": 8,
   "id": "be78402e-8c07-4b9f-8e8e-4067e91d3dcb",
   "metadata": {},
   "outputs": [],
   "source": [
    "df['year'] = pd.to_datetime(df['release_date'], errors='coerce').apply(lambda x: str(x).split('-')[0] if x != np.nan else np.nan)"
   ]
  },
  {
   "cell_type": "markdown",
   "id": "7cbf72e0",
   "metadata": {},
   "source": [
    "Seleccionamos las filas del DataFrame `df` donde 'vote_count' es mayor o igual a `m` (un valor calculado previamente, posiblemente un umbral de conteo de votos), y donde 'vote_count' y 'vote_average' no son nulos. De estas filas, selecciona solo las columnas 'title', 'year', 'vote_count', 'vote_average', 'popularity', y 'genres'. El resultado se almacena en el nuevo DataFrame `qualified`.\n",
    "Filtramos el DataFrame `df` para seleccionar solo las películas que cumplen ciertos criterios, y luego está obteniendo e imprimiendo el tamaño del conjunto de datos resultante."
   ]
  },
  {
   "cell_type": "code",
   "execution_count": 9,
   "id": "952faa5e-cc00-4598-bc5f-e20ca7dcc344",
   "metadata": {},
   "outputs": [
    {
     "data": {
      "text/plain": [
       "(2274, 6)"
      ]
     },
     "execution_count": 9,
     "metadata": {},
     "output_type": "execute_result"
    }
   ],
   "source": [
    "qualified = df[(df['vote_count'] >= m) & (df['vote_count'].notnull()) & (df['vote_average'].notnull())][['title', 'year', 'vote_count', 'vote_average', 'popularity', 'genres']]\n",
    "qualified['vote_count'] = qualified['vote_count'].astype('int')\n",
    "qualified['vote_average'] = qualified['vote_average'].astype('int')\n",
    "qualified.shape"
   ]
  },
  {
   "cell_type": "markdown",
   "id": "8b9bc754",
   "metadata": {},
   "source": [
    "Esta función calcula la calificación ponderada de una película basada en su conteo de votos, su promedio de votos, la media de votos de todas las películas, y un umbral de conteo de votos."
   ]
  },
  {
   "cell_type": "code",
   "execution_count": 10,
   "id": "32687df5-1686-474e-9901-f62c445379d3",
   "metadata": {},
   "outputs": [],
   "source": [
    "def weighted_rating(x):\n",
    "    v = x['vote_count']\n",
    "    R = x['vote_average']\n",
    "    return (v/(v+m) * R) + (m/(m+v) * C)"
   ]
  },
  {
   "cell_type": "markdown",
   "id": "96b46e47",
   "metadata": {},
   "source": [
    "Calculamos la calificación ponderada para cada película en el DataFrame `qualified` utilizando la función `weighted_rating` y almacenando estas calificaciones ponderadas en una nueva columna 'wr'."
   ]
  },
  {
   "cell_type": "code",
   "execution_count": 11,
   "id": "4e999138-eb4a-4007-bd2f-5e74f0184bac",
   "metadata": {},
   "outputs": [],
   "source": [
    "qualified['wr'] = qualified.apply(weighted_rating, axis=1)"
   ]
  },
  {
   "cell_type": "code",
   "execution_count": 12,
   "id": "3dff92e0-4c0c-4d55-a5ce-0cf8288bfc91",
   "metadata": {},
   "outputs": [],
   "source": [
    "qualified = qualified.sort_values('wr', ascending=False).head(250)"
   ]
  },
  {
   "cell_type": "markdown",
   "id": "4ba4620f",
   "metadata": {},
   "source": [
    "Se muestran las 10 primeras filas del dataset 'qualified' que representan a las 10 peliculas recomendadas con base en la votacion de usuarios."
   ]
  },
  {
   "cell_type": "code",
   "execution_count": 13,
   "id": "47af2ab4-6dcf-496f-b0f6-965c48c916f5",
   "metadata": {},
   "outputs": [
    {
     "data": {
      "text/html": [
       "<div>\n",
       "<style scoped>\n",
       "    .dataframe tbody tr th:only-of-type {\n",
       "        vertical-align: middle;\n",
       "    }\n",
       "\n",
       "    .dataframe tbody tr th {\n",
       "        vertical-align: top;\n",
       "    }\n",
       "\n",
       "    .dataframe thead th {\n",
       "        text-align: right;\n",
       "    }\n",
       "</style>\n",
       "<table border=\"1\" class=\"dataframe\">\n",
       "  <thead>\n",
       "    <tr style=\"text-align: right;\">\n",
       "      <th></th>\n",
       "      <th>title</th>\n",
       "      <th>year</th>\n",
       "      <th>vote_count</th>\n",
       "      <th>vote_average</th>\n",
       "      <th>popularity</th>\n",
       "      <th>genres</th>\n",
       "      <th>wr</th>\n",
       "    </tr>\n",
       "  </thead>\n",
       "  <tbody>\n",
       "    <tr>\n",
       "      <th>15480</th>\n",
       "      <td>Inception</td>\n",
       "      <td>2010</td>\n",
       "      <td>14075</td>\n",
       "      <td>8</td>\n",
       "      <td>29.108149</td>\n",
       "      <td>[Action, Thriller, Science Fiction, Mystery, A...</td>\n",
       "      <td>7.917588</td>\n",
       "    </tr>\n",
       "    <tr>\n",
       "      <th>12481</th>\n",
       "      <td>The Dark Knight</td>\n",
       "      <td>2008</td>\n",
       "      <td>12269</td>\n",
       "      <td>8</td>\n",
       "      <td>123.167259</td>\n",
       "      <td>[Drama, Action, Crime, Thriller]</td>\n",
       "      <td>7.905871</td>\n",
       "    </tr>\n",
       "    <tr>\n",
       "      <th>22879</th>\n",
       "      <td>Interstellar</td>\n",
       "      <td>2014</td>\n",
       "      <td>11187</td>\n",
       "      <td>8</td>\n",
       "      <td>32.213481</td>\n",
       "      <td>[Adventure, Drama, Science Fiction]</td>\n",
       "      <td>7.897107</td>\n",
       "    </tr>\n",
       "    <tr>\n",
       "      <th>2843</th>\n",
       "      <td>Fight Club</td>\n",
       "      <td>1999</td>\n",
       "      <td>9678</td>\n",
       "      <td>8</td>\n",
       "      <td>63.869599</td>\n",
       "      <td>[Drama]</td>\n",
       "      <td>7.881753</td>\n",
       "    </tr>\n",
       "    <tr>\n",
       "      <th>4863</th>\n",
       "      <td>The Lord of the Rings: The Fellowship of the Ring</td>\n",
       "      <td>2001</td>\n",
       "      <td>8892</td>\n",
       "      <td>8</td>\n",
       "      <td>32.070725</td>\n",
       "      <td>[Adventure, Fantasy, Action]</td>\n",
       "      <td>7.871787</td>\n",
       "    </tr>\n",
       "    <tr>\n",
       "      <th>292</th>\n",
       "      <td>Pulp Fiction</td>\n",
       "      <td>1994</td>\n",
       "      <td>8670</td>\n",
       "      <td>8</td>\n",
       "      <td>140.950236</td>\n",
       "      <td>[Thriller, Crime]</td>\n",
       "      <td>7.868660</td>\n",
       "    </tr>\n",
       "    <tr>\n",
       "      <th>314</th>\n",
       "      <td>The Shawshank Redemption</td>\n",
       "      <td>1994</td>\n",
       "      <td>8358</td>\n",
       "      <td>8</td>\n",
       "      <td>51.645403</td>\n",
       "      <td>[Drama, Crime]</td>\n",
       "      <td>7.864000</td>\n",
       "    </tr>\n",
       "    <tr>\n",
       "      <th>7000</th>\n",
       "      <td>The Lord of the Rings: The Return of the King</td>\n",
       "      <td>2003</td>\n",
       "      <td>8226</td>\n",
       "      <td>8</td>\n",
       "      <td>29.324358</td>\n",
       "      <td>[Adventure, Fantasy, Action]</td>\n",
       "      <td>7.861927</td>\n",
       "    </tr>\n",
       "    <tr>\n",
       "      <th>351</th>\n",
       "      <td>Forrest Gump</td>\n",
       "      <td>1994</td>\n",
       "      <td>8147</td>\n",
       "      <td>8</td>\n",
       "      <td>48.307194</td>\n",
       "      <td>[Comedy, Drama, Romance]</td>\n",
       "      <td>7.860656</td>\n",
       "    </tr>\n",
       "    <tr>\n",
       "      <th>5814</th>\n",
       "      <td>The Lord of the Rings: The Two Towers</td>\n",
       "      <td>2002</td>\n",
       "      <td>7641</td>\n",
       "      <td>8</td>\n",
       "      <td>29.423537</td>\n",
       "      <td>[Adventure, Fantasy, Action]</td>\n",
       "      <td>7.851924</td>\n",
       "    </tr>\n",
       "  </tbody>\n",
       "</table>\n",
       "</div>"
      ],
      "text/plain": [
       "                                                   title  year  vote_count  \\\n",
       "15480                                          Inception  2010       14075   \n",
       "12481                                    The Dark Knight  2008       12269   \n",
       "22879                                       Interstellar  2014       11187   \n",
       "2843                                          Fight Club  1999        9678   \n",
       "4863   The Lord of the Rings: The Fellowship of the Ring  2001        8892   \n",
       "292                                         Pulp Fiction  1994        8670   \n",
       "314                             The Shawshank Redemption  1994        8358   \n",
       "7000       The Lord of the Rings: The Return of the King  2003        8226   \n",
       "351                                         Forrest Gump  1994        8147   \n",
       "5814               The Lord of the Rings: The Two Towers  2002        7641   \n",
       "\n",
       "       vote_average  popularity  \\\n",
       "15480             8   29.108149   \n",
       "12481             8  123.167259   \n",
       "22879             8   32.213481   \n",
       "2843              8   63.869599   \n",
       "4863              8   32.070725   \n",
       "292               8  140.950236   \n",
       "314               8   51.645403   \n",
       "7000              8   29.324358   \n",
       "351               8   48.307194   \n",
       "5814              8   29.423537   \n",
       "\n",
       "                                                  genres        wr  \n",
       "15480  [Action, Thriller, Science Fiction, Mystery, A...  7.917588  \n",
       "12481                   [Drama, Action, Crime, Thriller]  7.905871  \n",
       "22879                [Adventure, Drama, Science Fiction]  7.897107  \n",
       "2843                                             [Drama]  7.881753  \n",
       "4863                        [Adventure, Fantasy, Action]  7.871787  \n",
       "292                                    [Thriller, Crime]  7.868660  \n",
       "314                                       [Drama, Crime]  7.864000  \n",
       "7000                        [Adventure, Fantasy, Action]  7.861927  \n",
       "351                             [Comedy, Drama, Romance]  7.860656  \n",
       "5814                        [Adventure, Fantasy, Action]  7.851924  "
      ]
     },
     "execution_count": 13,
     "metadata": {},
     "output_type": "execute_result"
    }
   ],
   "source": [
    "qualified.head(10)"
   ]
  },
  {
   "cell_type": "markdown",
   "id": "b92a65db-f0ad-4b64-8266-f40828b15cea",
   "metadata": {},
   "source": [
    "#### Recomendador basado en generos"
   ]
  },
  {
   "cell_type": "markdown",
   "id": "6694a3f4",
   "metadata": {},
   "source": [
    "La columna 'genres' ha sido reemplazada por una nueva columna 'genre' que contiene un solo género por fila."
   ]
  },
  {
   "cell_type": "code",
   "execution_count": 14,
   "id": "71a5eac8-d56b-42db-87c2-185d8d688b8d",
   "metadata": {},
   "outputs": [],
   "source": [
    "s = df.apply(lambda x: pd.Series(x['genres']),axis=1).stack().reset_index(level=1, drop=True)\n",
    "s.name = 'genre'\n",
    "gen_df = df.drop('genres', axis=1).join(s)"
   ]
  },
  {
   "cell_type": "markdown",
   "id": "3c5e6079",
   "metadata": {},
   "source": [
    "La siguiente funcion construye un DataFrame de películas que están calificadas dentro de un cierto percentil en un género específico. \n",
    "En resumen, esta función construye un DataFrame de las 250 películas principales en un género específico que están calificadas dentro de un cierto percentil."
   ]
  },
  {
   "cell_type": "code",
   "execution_count": 15,
   "id": "a81e4900-bbd9-4ed3-980c-b1afeccd8c05",
   "metadata": {},
   "outputs": [],
   "source": [
    "def build_chart(genre, percentile=0.85):\n",
    "    df1 = gen_df[gen_df['genre'] == genre]\n",
    "    vote_counts = df1[df1['vote_count'].notnull()]['vote_count'].astype('int')\n",
    "    vote_averages = df1[df1['vote_average'].notnull()]['vote_average'].astype('int')\n",
    "    C = vote_averages.mean()\n",
    "    m = vote_counts.quantile(percentile)\n",
    "    \n",
    "    qualified = df1[(df1['vote_count'] >= m) & (df['vote_count'].notnull()) & (df1['vote_average'].notnull())][['title', 'year', 'vote_count', 'vote_average', 'popularity']]\n",
    "    qualified['vote_count'] = qualified['vote_count'].astype('int')\n",
    "    qualified['vote_average'] = qualified['vote_average'].astype('int')\n",
    "    \n",
    "    qualified['wr'] = qualified.apply(lambda x: (x['vote_count']/(x['vote_count']+m) * x['vote_average']) + (m/(m+x['vote_count']) * C), axis=1)\n",
    "    qualified = qualified.sort_values('wr', ascending=False).head(250)\n",
    "    \n",
    "    return qualified"
   ]
  },
  {
   "cell_type": "markdown",
   "id": "c7717e55",
   "metadata": {},
   "source": [
    "Recomendamos las 10 mejores peliculas de terror."
   ]
  },
  {
   "cell_type": "code",
   "execution_count": 16,
   "id": "b43c3344-567f-49aa-9ddf-460bdbeb2a93",
   "metadata": {},
   "outputs": [
    {
     "name": "stderr",
     "output_type": "stream",
     "text": [
      "C:\\Users\\ferna\\AppData\\Local\\Temp\\ipykernel_5388\\4142472400.py:8: UserWarning: Boolean Series key will be reindexed to match DataFrame index.\n",
      "  qualified = df1[(df1['vote_count'] >= m) & (df['vote_count'].notnull()) & (df1['vote_average'].notnull())][['title', 'year', 'vote_count', 'vote_average', 'popularity']]\n"
     ]
    },
    {
     "data": {
      "text/html": [
       "<div>\n",
       "<style scoped>\n",
       "    .dataframe tbody tr th:only-of-type {\n",
       "        vertical-align: middle;\n",
       "    }\n",
       "\n",
       "    .dataframe tbody tr th {\n",
       "        vertical-align: top;\n",
       "    }\n",
       "\n",
       "    .dataframe thead th {\n",
       "        text-align: right;\n",
       "    }\n",
       "</style>\n",
       "<table border=\"1\" class=\"dataframe\">\n",
       "  <thead>\n",
       "    <tr style=\"text-align: right;\">\n",
       "      <th></th>\n",
       "      <th>title</th>\n",
       "      <th>year</th>\n",
       "      <th>vote_count</th>\n",
       "      <th>vote_average</th>\n",
       "      <th>popularity</th>\n",
       "      <th>wr</th>\n",
       "    </tr>\n",
       "  </thead>\n",
       "  <tbody>\n",
       "    <tr>\n",
       "      <th>1213</th>\n",
       "      <td>The Shining</td>\n",
       "      <td>1980</td>\n",
       "      <td>3890</td>\n",
       "      <td>8</td>\n",
       "      <td>19.611589</td>\n",
       "      <td>7.901294</td>\n",
       "    </tr>\n",
       "    <tr>\n",
       "      <th>1176</th>\n",
       "      <td>Psycho</td>\n",
       "      <td>1960</td>\n",
       "      <td>2405</td>\n",
       "      <td>8</td>\n",
       "      <td>36.826309</td>\n",
       "      <td>7.843335</td>\n",
       "    </tr>\n",
       "    <tr>\n",
       "      <th>1171</th>\n",
       "      <td>Alien</td>\n",
       "      <td>1979</td>\n",
       "      <td>4564</td>\n",
       "      <td>7</td>\n",
       "      <td>23.37742</td>\n",
       "      <td>6.941936</td>\n",
       "    </tr>\n",
       "    <tr>\n",
       "      <th>41492</th>\n",
       "      <td>Split</td>\n",
       "      <td>2016</td>\n",
       "      <td>4461</td>\n",
       "      <td>7</td>\n",
       "      <td>28.920839</td>\n",
       "      <td>6.940631</td>\n",
       "    </tr>\n",
       "    <tr>\n",
       "      <th>14236</th>\n",
       "      <td>Zombieland</td>\n",
       "      <td>2009</td>\n",
       "      <td>3655</td>\n",
       "      <td>7</td>\n",
       "      <td>11.063029</td>\n",
       "      <td>6.927969</td>\n",
       "    </tr>\n",
       "    <tr>\n",
       "      <th>1158</th>\n",
       "      <td>Aliens</td>\n",
       "      <td>1986</td>\n",
       "      <td>3282</td>\n",
       "      <td>7</td>\n",
       "      <td>21.761179</td>\n",
       "      <td>6.920081</td>\n",
       "    </tr>\n",
       "    <tr>\n",
       "      <th>21276</th>\n",
       "      <td>The Conjuring</td>\n",
       "      <td>2013</td>\n",
       "      <td>3169</td>\n",
       "      <td>7</td>\n",
       "      <td>14.90169</td>\n",
       "      <td>6.917338</td>\n",
       "    </tr>\n",
       "    <tr>\n",
       "      <th>42169</th>\n",
       "      <td>Get Out</td>\n",
       "      <td>2017</td>\n",
       "      <td>2978</td>\n",
       "      <td>7</td>\n",
       "      <td>36.894806</td>\n",
       "      <td>6.912248</td>\n",
       "    </tr>\n",
       "    <tr>\n",
       "      <th>1338</th>\n",
       "      <td>Jaws</td>\n",
       "      <td>1975</td>\n",
       "      <td>2628</td>\n",
       "      <td>7</td>\n",
       "      <td>19.726114</td>\n",
       "      <td>6.901088</td>\n",
       "    </tr>\n",
       "    <tr>\n",
       "      <th>8147</th>\n",
       "      <td>Shaun of the Dead</td>\n",
       "      <td>2004</td>\n",
       "      <td>2479</td>\n",
       "      <td>7</td>\n",
       "      <td>14.902948</td>\n",
       "      <td>6.895426</td>\n",
       "    </tr>\n",
       "  </tbody>\n",
       "</table>\n",
       "</div>"
      ],
      "text/plain": [
       "                   title  year  vote_count  vote_average popularity        wr\n",
       "1213         The Shining  1980        3890             8  19.611589  7.901294\n",
       "1176              Psycho  1960        2405             8  36.826309  7.843335\n",
       "1171               Alien  1979        4564             7   23.37742  6.941936\n",
       "41492              Split  2016        4461             7  28.920839  6.940631\n",
       "14236         Zombieland  2009        3655             7  11.063029  6.927969\n",
       "1158              Aliens  1986        3282             7  21.761179  6.920081\n",
       "21276      The Conjuring  2013        3169             7   14.90169  6.917338\n",
       "42169            Get Out  2017        2978             7  36.894806  6.912248\n",
       "1338                Jaws  1975        2628             7  19.726114  6.901088\n",
       "8147   Shaun of the Dead  2004        2479             7  14.902948  6.895426"
      ]
     },
     "execution_count": 16,
     "metadata": {},
     "output_type": "execute_result"
    }
   ],
   "source": [
    "#Las 10 mejores peliculas de terror\n",
    "build_chart('Horror').head(10)"
   ]
  }
 ],
 "metadata": {
  "kernelspec": {
   "display_name": "RecommendationSys",
   "language": "python",
   "name": "recommendationsys"
  },
  "language_info": {
   "codemirror_mode": {
    "name": "ipython",
    "version": 3
   },
   "file_extension": ".py",
   "mimetype": "text/x-python",
   "name": "python",
   "nbconvert_exporter": "python",
   "pygments_lexer": "ipython3",
   "version": "3.10.5"
  }
 },
 "nbformat": 4,
 "nbformat_minor": 5
}
